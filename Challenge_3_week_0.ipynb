{
 "cells": [
  {
   "cell_type": "markdown",
   "id": "black-solid",
   "metadata": {},
   "source": [
    "# Topic Modeling and sentiment analaysis\n",
    "\n",
    "## Topic modeling"
   ]
  },
  {
   "cell_type": "markdown",
   "id": "strategic-mercury",
   "metadata": {},
   "source": [
    "Topic Models, in a nutshell, are a type of statistical language models used for uncovering hidden structure in a collection of texts. In a practical and more intuitively, you can think of it as a task of:\n",
    "\n",
    "Dimensionality Reduction, where rather than representing a text T in its feature space as {Word_i: count(Word_i, T) for Word_i in Vocabulary}, you can represent it in a topic space as {Topic_i: Weight(Topic_i, T) for Topic_i in Topics}"
   ]
  },
  {
   "cell_type": "markdown",
   "id": "neutral-context",
   "metadata": {},
   "source": [
    "## Sentiment analysis"
   ]
  },
  {
   "cell_type": "markdown",
   "id": "ecological-second",
   "metadata": {},
   "source": [
    "Sentiment analysis\n",
    "It is used in social media monitoring, allowing businesses to gain insights about how customers feel about certain topics, and detect urgent issues in real time before they spiral out of control.\n",
    "\n",
    "Our task here is to classify a tweet as a positive or negative tweet sentiment wise."
   ]
  },
  {
   "cell_type": "markdown",
   "id": "fifty-paradise",
   "metadata": {},
   "source": [
    "\n",
    "\n",
    "There are several existing algorithms we can use to perform the topic modeling. The most common of it are, Latent Semantic Analysis (LSA/LSI), Probabilistic Latent Semantic Analysis (pLSA), and Latent Dirichlet Allocation (LDA)"
   ]
  },
  {
   "cell_type": "markdown",
   "id": "distant-documentation",
   "metadata": {},
   "source": [
    "\n",
    "In this article, we’ll take a closer look at LDA, and implement our first topic model using the sklearn implementation in python."
   ]
  },
  {
   "cell_type": "markdown",
   "id": "figured-german",
   "metadata": {},
   "source": [
    "# LDA Implementation"
   ]
  },
  {
   "cell_type": "markdown",
   "id": "associate-republican",
   "metadata": {},
   "source": [
    "The steps used to implement LDA :\n",
    "   1) Loading data\n",
    "   \n",
    "   2) Data cleaning\n",
    "   \n",
    "   \n",
    "   3) Exploratory analysis\n",
    "   \n",
    "   \n",
    "   4) Preparing data for LDA analysis\n",
    "   \n",
    "   \n",
    "   5) LDA model training\n",
    "   \n",
    "   \n",
    "   6) Analyzing LDA model results"
   ]
  },
  {
   "cell_type": "code",
   "execution_count": null,
   "id": "critical-tamil",
   "metadata": {},
   "outputs": [],
   "source": []
  }
 ],
 "metadata": {
  "kernelspec": {
   "display_name": "Python 3",
   "language": "python",
   "name": "python3"
  },
  "language_info": {
   "codemirror_mode": {
    "name": "ipython",
    "version": 3
   },
   "file_extension": ".py",
   "mimetype": "text/x-python",
   "name": "python",
   "nbconvert_exporter": "python",
   "pygments_lexer": "ipython3",
   "version": "3.8.5"
  }
 },
 "nbformat": 4,
 "nbformat_minor": 5
}
