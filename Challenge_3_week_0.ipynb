{
 "cells": [
  {
   "cell_type": "markdown",
   "id": "terminal-lending",
   "metadata": {},
   "source": [
    "# Topic Modeling and sentiment analaysis\n",
    "\n",
    "## Topic modeling"
   ]
  },
  {
   "cell_type": "markdown",
   "id": "other-developer",
   "metadata": {},
   "source": [
    "Topic Models, in a nutshell, are a type of statistical language models used for uncovering hidden structure in a collection of texts. In a practical and more intuitively, you can think of it as a task of:\n",
    "\n",
    "Dimensionality Reduction, where rather than representing a text T in its feature space as {Word_i: count(Word_i, T) for Word_i in Vocabulary}, you can represent it in a topic space as {Topic_i: Weight(Topic_i, T) for Topic_i in Topics}"
   ]
  },
  {
   "cell_type": "markdown",
   "id": "brilliant-center",
   "metadata": {},
   "source": [
    "\n",
    "\n",
    "There are several existing algorithms we can use to perform the topic modeling. The most common of it are, Latent Semantic Analysis (LSA/LSI), Probabilistic Latent Semantic Analysis (pLSA), and Latent Dirichlet Allocation (LDA)"
   ]
  },
  {
   "cell_type": "markdown",
   "id": "premier-calculation",
   "metadata": {},
   "source": [
    "\n",
    "In this article, we’ll take a closer look at LDA, and implement our first topic model using the sklearn implementation in python."
   ]
  },
  {
   "cell_type": "markdown",
   "id": "ready-italian",
   "metadata": {},
   "source": [
    "# LDA Implementation"
   ]
  },
  {
   "cell_type": "markdown",
   "id": "cardiac-hampshire",
   "metadata": {},
   "source": [
    "The steps used to implement LDA :\n",
    "   1) Loading data\n",
    "   \n",
    "   2) Data cleaning\n",
    "   \n",
    "   \n",
    "   3) Exploratory analysis\n",
    "   \n",
    "   \n",
    "   4) Preparing data for LDA analysis\n",
    "   \n",
    "   \n",
    "   5) LDA model training\n",
    "   \n",
    "   \n",
    "   6) Analyzing LDA model results"
   ]
  },
  {
   "cell_type": "markdown",
   "id": "fifty-privilege",
   "metadata": {},
   "source": [
    "# Step 1: Loading Data "
   ]
  },
  {
   "cell_type": "code",
   "execution_count": 21,
   "id": "facial-annex",
   "metadata": {},
   "outputs": [
    {
     "data": {
      "text/html": [
       "<div>\n",
       "<style scoped>\n",
       "    .dataframe tbody tr th:only-of-type {\n",
       "        vertical-align: middle;\n",
       "    }\n",
       "\n",
       "    .dataframe tbody tr th {\n",
       "        vertical-align: top;\n",
       "    }\n",
       "\n",
       "    .dataframe thead th {\n",
       "        text-align: right;\n",
       "    }\n",
       "</style>\n",
       "<table border=\"1\" class=\"dataframe\">\n",
       "  <thead>\n",
       "    <tr style=\"text-align: right;\">\n",
       "      <th></th>\n",
       "      <th>created_at</th>\n",
       "      <th>source</th>\n",
       "      <th>original_text</th>\n",
       "      <th>polarity</th>\n",
       "      <th>subjectivity</th>\n",
       "      <th>lang</th>\n",
       "      <th>favorite_count</th>\n",
       "      <th>retweet_count</th>\n",
       "      <th>original_author</th>\n",
       "      <th>followers_count</th>\n",
       "      <th>friends_count</th>\n",
       "      <th>possibly_sensitive</th>\n",
       "      <th>hashtags</th>\n",
       "      <th>user_mentions</th>\n",
       "      <th>place</th>\n",
       "    </tr>\n",
       "  </thead>\n",
       "  <tbody>\n",
       "    <tr>\n",
       "      <th>0</th>\n",
       "      <td>Fri Jun 18 17:55:49 +0000 2021</td>\n",
       "      <td>&lt;a href=\"http://twitter.com/download/iphone\" r...</td>\n",
       "      <td>🚨Africa is \"in the midst of a full-blown third...</td>\n",
       "      <td>0.166667</td>\n",
       "      <td>0.188889</td>\n",
       "      <td>en</td>\n",
       "      <td>548</td>\n",
       "      <td>612</td>\n",
       "      <td>ketuesriche</td>\n",
       "      <td>551</td>\n",
       "      <td>351</td>\n",
       "      <td>NaN</td>\n",
       "      <td>[]</td>\n",
       "      <td>[{'screen_name': 'TelGlobalHealth', 'name': 'T...</td>\n",
       "      <td>Mass</td>\n",
       "    </tr>\n",
       "    <tr>\n",
       "      <th>1</th>\n",
       "      <td>Fri Jun 18 17:55:59 +0000 2021</td>\n",
       "      <td>&lt;a href=\"https://mobile.twitter.com\" rel=\"nofo...</td>\n",
       "      <td>Dr Moeti is head of WHO in Africa, and one of ...</td>\n",
       "      <td>0.133333</td>\n",
       "      <td>0.455556</td>\n",
       "      <td>en</td>\n",
       "      <td>195</td>\n",
       "      <td>92</td>\n",
       "      <td>Grid1949</td>\n",
       "      <td>66</td>\n",
       "      <td>92</td>\n",
       "      <td>NaN</td>\n",
       "      <td>[]</td>\n",
       "      <td>[{'screen_name': 'globalhlthtwit', 'name': 'An...</td>\n",
       "      <td>Edinburgh, Scotland</td>\n",
       "    </tr>\n",
       "    <tr>\n",
       "      <th>2</th>\n",
       "      <td>Fri Jun 18 17:56:07 +0000 2021</td>\n",
       "      <td>&lt;a href=\"http://twitter.com/download/iphone\" r...</td>\n",
       "      <td>Thank you @research2note for creating this ama...</td>\n",
       "      <td>0.316667</td>\n",
       "      <td>0.483333</td>\n",
       "      <td>en</td>\n",
       "      <td>2</td>\n",
       "      <td>1</td>\n",
       "      <td>LeeTomlinson8</td>\n",
       "      <td>1195</td>\n",
       "      <td>1176</td>\n",
       "      <td>NaN</td>\n",
       "      <td>[{'text': 'red4research', 'indices': [103, 116]}]</td>\n",
       "      <td>[{'screen_name': 'NHSRDForum', 'name': 'NHS R&amp;...</td>\n",
       "      <td>NaN</td>\n",
       "    </tr>\n",
       "    <tr>\n",
       "      <th>3</th>\n",
       "      <td>Fri Jun 18 17:56:10 +0000 2021</td>\n",
       "      <td>&lt;a href=\"https://mobile.twitter.com\" rel=\"nofo...</td>\n",
       "      <td>Former Pfizer VP and Virologist, Dr. Michael Y...</td>\n",
       "      <td>0.086111</td>\n",
       "      <td>0.197222</td>\n",
       "      <td>en</td>\n",
       "      <td>1580</td>\n",
       "      <td>899</td>\n",
       "      <td>RIPNY08</td>\n",
       "      <td>2666</td>\n",
       "      <td>2704</td>\n",
       "      <td>NaN</td>\n",
       "      <td>[]</td>\n",
       "      <td>[{'screen_name': 'HighWireTalk', 'name': 'The ...</td>\n",
       "      <td>NaN</td>\n",
       "    </tr>\n",
       "    <tr>\n",
       "      <th>4</th>\n",
       "      <td>Fri Jun 18 17:56:20 +0000 2021</td>\n",
       "      <td>&lt;a href=\"http://twitter.com/download/android\" ...</td>\n",
       "      <td>I think it’s important that we don’t sell COVA...</td>\n",
       "      <td>0.280000</td>\n",
       "      <td>0.620000</td>\n",
       "      <td>en</td>\n",
       "      <td>72</td>\n",
       "      <td>20</td>\n",
       "      <td>pash22</td>\n",
       "      <td>28250</td>\n",
       "      <td>30819</td>\n",
       "      <td>NaN</td>\n",
       "      <td>[]</td>\n",
       "      <td>[{'screen_name': 'PeterHotez', 'name': 'Prof P...</td>\n",
       "      <td>United Kingdom</td>\n",
       "    </tr>\n",
       "  </tbody>\n",
       "</table>\n",
       "</div>"
      ],
      "text/plain": [
       "                       created_at  \\\n",
       "0  Fri Jun 18 17:55:49 +0000 2021   \n",
       "1  Fri Jun 18 17:55:59 +0000 2021   \n",
       "2  Fri Jun 18 17:56:07 +0000 2021   \n",
       "3  Fri Jun 18 17:56:10 +0000 2021   \n",
       "4  Fri Jun 18 17:56:20 +0000 2021   \n",
       "\n",
       "                                              source  \\\n",
       "0  <a href=\"http://twitter.com/download/iphone\" r...   \n",
       "1  <a href=\"https://mobile.twitter.com\" rel=\"nofo...   \n",
       "2  <a href=\"http://twitter.com/download/iphone\" r...   \n",
       "3  <a href=\"https://mobile.twitter.com\" rel=\"nofo...   \n",
       "4  <a href=\"http://twitter.com/download/android\" ...   \n",
       "\n",
       "                                       original_text  polarity  subjectivity  \\\n",
       "0  🚨Africa is \"in the midst of a full-blown third...  0.166667      0.188889   \n",
       "1  Dr Moeti is head of WHO in Africa, and one of ...  0.133333      0.455556   \n",
       "2  Thank you @research2note for creating this ama...  0.316667      0.483333   \n",
       "3  Former Pfizer VP and Virologist, Dr. Michael Y...  0.086111      0.197222   \n",
       "4  I think it’s important that we don’t sell COVA...  0.280000      0.620000   \n",
       "\n",
       "  lang  favorite_count  retweet_count original_author  followers_count  \\\n",
       "0   en             548            612     ketuesriche              551   \n",
       "1   en             195             92        Grid1949               66   \n",
       "2   en               2              1   LeeTomlinson8             1195   \n",
       "3   en            1580            899         RIPNY08             2666   \n",
       "4   en              72             20          pash22            28250   \n",
       "\n",
       "   friends_count possibly_sensitive  \\\n",
       "0            351                NaN   \n",
       "1             92                NaN   \n",
       "2           1176                NaN   \n",
       "3           2704                NaN   \n",
       "4          30819                NaN   \n",
       "\n",
       "                                            hashtags  \\\n",
       "0                                                 []   \n",
       "1                                                 []   \n",
       "2  [{'text': 'red4research', 'indices': [103, 116]}]   \n",
       "3                                                 []   \n",
       "4                                                 []   \n",
       "\n",
       "                                       user_mentions                place  \n",
       "0  [{'screen_name': 'TelGlobalHealth', 'name': 'T...                 Mass  \n",
       "1  [{'screen_name': 'globalhlthtwit', 'name': 'An...  Edinburgh, Scotland  \n",
       "2  [{'screen_name': 'NHSRDForum', 'name': 'NHS R&...                  NaN  \n",
       "3  [{'screen_name': 'HighWireTalk', 'name': 'The ...                  NaN  \n",
       "4  [{'screen_name': 'PeterHotez', 'name': 'Prof P...       United Kingdom  "
      ]
     },
     "execution_count": 21,
     "metadata": {},
     "output_type": "execute_result"
    }
   ],
   "source": [
    "# Importing modules\n",
    "import warnings\n",
    "warnings.filterwarnings('ignore')\n",
    "import matplotlib.pyplot as plt\n",
    "import seaborn as sns\n",
    "from wordcloud import STOPWORDS,WordCloud\n",
    "from gensim import corpora\n",
    "import pandas as pd\n",
    "import statistics\n",
    "import string\n",
    "import os\n",
    "import re\n",
    "\n",
    "#os.chdir('..')\n",
    "\n",
    "# Read data into papers\n",
    "papers = pd.read_csv('week_0_challenge_3/processed_tweet_data .csv')\n",
    "\n",
    "# Print head\n",
    "papers.head()"
   ]
  },
  {
   "cell_type": "markdown",
   "id": "noted-treat",
   "metadata": {},
   "source": [
    "# Step 2: Data Cleaning"
   ]
  },
  {
   "cell_type": "markdown",
   "id": "protected-implement",
   "metadata": {},
   "source": [
    "Since the goal of this analysis is to perform topic modeling, let's focus only on the text data from each paper, and drop other metadata columns."
   ]
  },
  {
   "cell_type": "code",
   "execution_count": 22,
   "id": "arranged-plain",
   "metadata": {},
   "outputs": [
    {
     "data": {
      "text/html": [
       "<div>\n",
       "<style scoped>\n",
       "    .dataframe tbody tr th:only-of-type {\n",
       "        vertical-align: middle;\n",
       "    }\n",
       "\n",
       "    .dataframe tbody tr th {\n",
       "        vertical-align: top;\n",
       "    }\n",
       "\n",
       "    .dataframe thead th {\n",
       "        text-align: right;\n",
       "    }\n",
       "</style>\n",
       "<table border=\"1\" class=\"dataframe\">\n",
       "  <thead>\n",
       "    <tr style=\"text-align: right;\">\n",
       "      <th></th>\n",
       "      <th>created_at</th>\n",
       "      <th>source</th>\n",
       "      <th>original_text</th>\n",
       "      <th>polarity</th>\n",
       "      <th>subjectivity</th>\n",
       "      <th>lang</th>\n",
       "      <th>retweet_count</th>\n",
       "      <th>original_author</th>\n",
       "      <th>followers_count</th>\n",
       "      <th>friends_count</th>\n",
       "      <th>hashtags</th>\n",
       "      <th>place</th>\n",
       "    </tr>\n",
       "  </thead>\n",
       "  <tbody>\n",
       "    <tr>\n",
       "      <th>2599</th>\n",
       "      <td>Fri Jun 18 22:03:05 +0000 2021</td>\n",
       "      <td>&lt;a href=\"http://twitter.com/download/android\" ...</td>\n",
       "      <td>The Palestinian Authority (PA) cancels a deal ...</td>\n",
       "      <td>0.000000</td>\n",
       "      <td>0.000000</td>\n",
       "      <td>en</td>\n",
       "      <td>6</td>\n",
       "      <td>autobushaya</td>\n",
       "      <td>2198</td>\n",
       "      <td>1069</td>\n",
       "      <td>[{'text': 'COVID19', 'indices': [91, 99]}, {'t...</td>\n",
       "      <td>port said/Cairo-Egypt</td>\n",
       "    </tr>\n",
       "    <tr>\n",
       "      <th>3619</th>\n",
       "      <td>Sat Jun 19 00:44:01 +0000 2021</td>\n",
       "      <td>&lt;a href=\"http://twitter.com/download/iphone\" r...</td>\n",
       "      <td>We are dying! Ugandans need the world to stand...</td>\n",
       "      <td>-0.236458</td>\n",
       "      <td>0.337500</td>\n",
       "      <td>en</td>\n",
       "      <td>552</td>\n",
       "      <td>kayakkim11</td>\n",
       "      <td>351</td>\n",
       "      <td>413</td>\n",
       "      <td>[{'text': 'COVID19', 'indices': [101, 109]}]</td>\n",
       "      <td>New Jersey, USA</td>\n",
       "    </tr>\n",
       "    <tr>\n",
       "      <th>4737</th>\n",
       "      <td>Sat Jun 19 03:23:34 +0000 2021</td>\n",
       "      <td>&lt;a href=\"https://mobile.twitter.com\" rel=\"nofo...</td>\n",
       "      <td>The #Palestinian Authority canceled a deal to ...</td>\n",
       "      <td>0.000000</td>\n",
       "      <td>0.000000</td>\n",
       "      <td>en</td>\n",
       "      <td>0</td>\n",
       "      <td>GlobalWatchCGTN</td>\n",
       "      <td>1639</td>\n",
       "      <td>255</td>\n",
       "      <td>[{'text': 'Palestinian', 'indices': [4, 16]}, ...</td>\n",
       "      <td>NaN</td>\n",
       "    </tr>\n",
       "    <tr>\n",
       "      <th>2957</th>\n",
       "      <td>Fri Jun 18 22:53:15 +0000 2021</td>\n",
       "      <td>&lt;a href=\"http://twitter.com/download/iphone\" r...</td>\n",
       "      <td>Of course you're not going to be inclined to a...</td>\n",
       "      <td>-0.133333</td>\n",
       "      <td>0.600000</td>\n",
       "      <td>en</td>\n",
       "      <td>0</td>\n",
       "      <td>esrasez94</td>\n",
       "      <td>3657</td>\n",
       "      <td>616</td>\n",
       "      <td>[]</td>\n",
       "      <td>Melbourne 🔁 Istanbul</td>\n",
       "    </tr>\n",
       "    <tr>\n",
       "      <th>5848</th>\n",
       "      <td>Sat Jun 19 06:04:05 +0000 2021</td>\n",
       "      <td>&lt;a href=\"http://twitter.com/download/iphone\" r...</td>\n",
       "      <td>Dr Moeti is head of WHO in Africa, and one of ...</td>\n",
       "      <td>0.133333</td>\n",
       "      <td>0.455556</td>\n",
       "      <td>en</td>\n",
       "      <td>284</td>\n",
       "      <td>ParallaxUtopian</td>\n",
       "      <td>83</td>\n",
       "      <td>476</td>\n",
       "      <td>[]</td>\n",
       "      <td>San Antonio, TX</td>\n",
       "    </tr>\n",
       "  </tbody>\n",
       "</table>\n",
       "</div>"
      ],
      "text/plain": [
       "                          created_at  \\\n",
       "2599  Fri Jun 18 22:03:05 +0000 2021   \n",
       "3619  Sat Jun 19 00:44:01 +0000 2021   \n",
       "4737  Sat Jun 19 03:23:34 +0000 2021   \n",
       "2957  Fri Jun 18 22:53:15 +0000 2021   \n",
       "5848  Sat Jun 19 06:04:05 +0000 2021   \n",
       "\n",
       "                                                 source  \\\n",
       "2599  <a href=\"http://twitter.com/download/android\" ...   \n",
       "3619  <a href=\"http://twitter.com/download/iphone\" r...   \n",
       "4737  <a href=\"https://mobile.twitter.com\" rel=\"nofo...   \n",
       "2957  <a href=\"http://twitter.com/download/iphone\" r...   \n",
       "5848  <a href=\"http://twitter.com/download/iphone\" r...   \n",
       "\n",
       "                                          original_text  polarity  \\\n",
       "2599  The Palestinian Authority (PA) cancels a deal ...  0.000000   \n",
       "3619  We are dying! Ugandans need the world to stand... -0.236458   \n",
       "4737  The #Palestinian Authority canceled a deal to ...  0.000000   \n",
       "2957  Of course you're not going to be inclined to a... -0.133333   \n",
       "5848  Dr Moeti is head of WHO in Africa, and one of ...  0.133333   \n",
       "\n",
       "      subjectivity lang  retweet_count  original_author  followers_count  \\\n",
       "2599      0.000000   en              6      autobushaya             2198   \n",
       "3619      0.337500   en            552       kayakkim11              351   \n",
       "4737      0.000000   en              0  GlobalWatchCGTN             1639   \n",
       "2957      0.600000   en              0        esrasez94             3657   \n",
       "5848      0.455556   en            284  ParallaxUtopian               83   \n",
       "\n",
       "      friends_count                                           hashtags  \\\n",
       "2599           1069  [{'text': 'COVID19', 'indices': [91, 99]}, {'t...   \n",
       "3619            413       [{'text': 'COVID19', 'indices': [101, 109]}]   \n",
       "4737            255  [{'text': 'Palestinian', 'indices': [4, 16]}, ...   \n",
       "2957            616                                                 []   \n",
       "5848            476                                                 []   \n",
       "\n",
       "                      place  \n",
       "2599  port said/Cairo-Egypt  \n",
       "3619        New Jersey, USA  \n",
       "4737                    NaN  \n",
       "2957   Melbourne 🔁 Istanbul  \n",
       "5848        San Antonio, TX  "
      ]
     },
     "execution_count": 22,
     "metadata": {},
     "output_type": "execute_result"
    }
   ],
   "source": [
    "# Remove the columns\n",
    "papers = papers.drop(columns=['favorite_count','possibly_sensitive','user_mentions'], axis=1).sample(100)\n",
    "\n",
    "# Print out the first rows of papers\n",
    "papers.head()"
   ]
  },
  {
   "cell_type": "markdown",
   "id": "opponent-interface",
   "metadata": {},
   "source": [
    "## Remove punctuation/lower casing"
   ]
  },
  {
   "cell_type": "code",
   "execution_count": 23,
   "id": "multiple-beach",
   "metadata": {},
   "outputs": [
    {
     "data": {
      "text/plain": [
       "2599    the palestinian authority (pa) cancels a deal ...\n",
       "3619    we are dying ugandans need the world to stand ...\n",
       "4737    the #palestinian authority canceled a deal to ...\n",
       "2957    of course you're not going to be inclined to a...\n",
       "5848    dr moeti is head of who in africa and one of t...\n",
       "Name: paper_text_processed, dtype: object"
      ]
     },
     "execution_count": 23,
     "metadata": {},
     "output_type": "execute_result"
    }
   ],
   "source": [
    "# Load the regular expression library\n",
    "\n",
    "import re\n",
    "\n",
    "# Remove punctuation\n",
    "\n",
    "papers['paper_text_processed'] = \\\n",
    "papers['original_text'].map(lambda x: re.sub('[,\\.!?]', '', x))\n",
    "\n",
    "# Convert the titles to lowercase\n",
    "\n",
    "papers['paper_text_processed'] = \\\n",
    "papers['paper_text_processed'].map(lambda x: x.lower())\n",
    "\n",
    "# Print out the first rows of papers\n",
    "\n",
    "papers['paper_text_processed'].head()\n"
   ]
  },
  {
   "cell_type": "markdown",
   "id": "irish-forward",
   "metadata": {},
   "source": [
    "# Step 3: Exploratory Analysis"
   ]
  },
  {
   "cell_type": "markdown",
   "id": "productive-howard",
   "metadata": {},
   "source": [
    "To verify whether the preprocessing, we’ll make a word cloud using the wordcloud package to get a visual representation of most common words. It is key to understanding the data and ensuring we are on the right track, and if any more preprocessing is necessary before training the model."
   ]
  },
  {
   "cell_type": "code",
   "execution_count": 24,
   "id": "varying-valuation",
   "metadata": {},
   "outputs": [
    {
     "data": {
      "image/png": "[encoded data removed]",
      "text/plain": [
       "<PIL.Image.Image image mode=RGB size=400x200 at 0x7F96FD0289D0>"
      ]
     },
     "execution_count": 24,
     "metadata": {},
     "output_type": "execute_result"
    }
   ],
   "source": [
    "# Import the wordcloud library\n",
    "\n",
    "from wordcloud import WordCloud\n",
    "\n",
    "# Join the different processed titles together.\n",
    "\n",
    "long_string = ','.join(list(papers['paper_text_processed'].values))\n",
    "\n",
    "# Create a WordCloud object\n",
    "\n",
    "wordcloud = WordCloud(background_color=\"white\", max_words=5000, contour_width=3, contour_color='steelblue')\n",
    "\n",
    "# Generate a word cloud\n",
    "\n",
    "wordcloud.generate(long_string)\n",
    "\n",
    "# Visualize the word cloud\n",
    "\n",
    "wordcloud.to_image()"
   ]
  },
  {
   "cell_type": "markdown",
   "id": "floral-robin",
   "metadata": {},
   "source": [
    "# Step 4 Prepare data for LDA Analysis"
   ]
  },
  {
   "cell_type": "markdown",
   "id": "solved-timer",
   "metadata": {},
   "source": [
    "Next, let’s work to transform the textual data in a format that will serve as an input for training LDA model. We start by tokenizing the text and removing stopwords. Next, we convert the tokenized object into a corpus and dictionary."
   ]
  },
  {
   "cell_type": "code",
   "execution_count": 25,
   "id": "chicken-zoning",
   "metadata": {},
   "outputs": [
    {
     "name": "stderr",
     "output_type": "stream",
     "text": [
      "[nltk_data] Downloading package stopwords to\n",
      "[nltk_data]     /home/eyerusalem/nltk_data...\n"
     ]
    },
    {
     "name": "stdout",
     "output_type": "stream",
     "text": [
      "['palestinian', 'authority', 'pa', 'cancels', 'deal', 'receive', 'soon', 'expire', 'covid', 'vaccines', 'israel', 'initial', 'israeli', 'shipment', 'showed', 'expiration', 'date', 'sooner', 'agreed', 'pa', 'health', 'minister', 'says', 'https', 'tco', 'slikympzd']\n"
     ]
    },
    {
     "name": "stderr",
     "output_type": "stream",
     "text": [
      "[nltk_data]   Unzipping corpora/stopwords.zip.\n"
     ]
    }
   ],
   "source": [
    "import gensim\n",
    "from gensim.utils import simple_preprocess\n",
    "import nltk\n",
    "nltk.download('stopwords')\n",
    "from nltk.corpus import stopwords\n",
    "\n",
    "stop_words = stopwords.words('english')\n",
    "stop_words.extend(['from', 'subject', 're', 'edu', 'use'])\n",
    "\n",
    "def sent_to_words(sentences):\n",
    "    for sentence in sentences:\n",
    "        # deacc=True removes punctuations\n",
    "        yield(gensim.utils.simple_preprocess(str(sentence), deacc=True))\n",
    "\n",
    "def remove_stopwords(texts):\n",
    "    return [[word for word in simple_preprocess(str(doc)) \n",
    "             if word not in stop_words] for doc in texts]\n",
    "\n",
    "\n",
    "data = papers.paper_text_processed.values.tolist()\n",
    "data_words = list(sent_to_words(data))\n",
    "\n",
    "# remove stop words\n",
    "data_words = remove_stopwords(data_words)\n",
    "\n",
    "print(data_words[:1][0][:30])\n"
   ]
  },
  {
   "cell_type": "code",
   "execution_count": 27,
   "id": "nasty-challenge",
   "metadata": {},
   "outputs": [
    {
     "name": "stdout",
     "output_type": "stream",
     "text": [
      "[(0, 1), (1, 1), (2, 1), (3, 1), (4, 1), (5, 1), (6, 1), (7, 1), (8, 1), (9, 1), (10, 1), (11, 1), (12, 1), (13, 1), (14, 2), (15, 1), (16, 1), (17, 1), (18, 1), (19, 1), (20, 1), (21, 1), (22, 1), (23, 1), (24, 1)]\n"
     ]
    }
   ],
   "source": [
    "import gensim.corpora as corpora\n",
    "\n",
    "# Create Dictionary\n",
    "id_to_word = corpora.Dictionary(data_words)\n",
    "\n",
    "# Create Corpus\n",
    "texts = data_words\n",
    "\n",
    "# Term Document Frequency\n",
    "corpus = [id_to_word.doc2bow(text) for text in texts]\n",
    "\n",
    "# View\n",
    "print(corpus[:1][0][:30])"
   ]
  },
  {
   "cell_type": "markdown",
   "id": "responsible-doubt",
   "metadata": {},
   "source": [
    "# Step 5: LDA model tranining "
   ]
  },
  {
   "cell_type": "code",
   "execution_count": null,
   "id": "prescription-roberts",
   "metadata": {},
   "outputs": [],
   "source": []
  }
 ],
 "metadata": {
  "kernelspec": {
   "display_name": "Python 3",
   "language": "python",
   "name": "python3"
  },
  "language_info": {
   "codemirror_mode": {
    "name": "ipython",
    "version": 3
   },
   "file_extension": ".py",
   "mimetype": "text/x-python",
   "name": "python",
   "nbconvert_exporter": "python",
   "pygments_lexer": "ipython3",
   "version": "3.8.5"
  }
 },
 "nbformat": 4,
 "nbformat_minor": 5
}
